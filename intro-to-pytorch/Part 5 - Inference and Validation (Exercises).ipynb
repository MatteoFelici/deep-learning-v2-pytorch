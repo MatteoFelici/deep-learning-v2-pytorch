{
 "cells": [
  {
   "cell_type": "markdown",
   "metadata": {},
   "source": [
    "# Inference and Validation\n",
    "\n",
    "Now that you have a trained network, you can use it for making predictions. This is typically called **inference**, a term borrowed from statistics. However, neural networks have a tendency to perform *too well* on the training data and aren't able to generalize to data that hasn't been seen before. This is called **overfitting** and it impairs inference performance. To test for overfitting while training, we measure the performance on data not in the training set called the **validation** set. We avoid overfitting through regularization such as dropout while monitoring the validation performance during training. In this notebook, I'll show you how to do this in PyTorch. \n",
    "\n",
    "As usual, let's start by loading the dataset through torchvision. You'll learn more about torchvision and loading data in a later part. This time we'll be taking advantage of the test set which you can get by setting `train=False` here:\n",
    "\n",
    "```python\n",
    "testset = datasets.FashionMNIST('~/.pytorch/F_MNIST_data/', download=True, train=False, transform=transform)\n",
    "```\n",
    "\n",
    "The test set contains images just like the training set. Typically you'll see 10-20% of the original dataset held out for testing and validation with the rest being used for training."
   ]
  },
  {
   "cell_type": "code",
   "execution_count": 1,
   "metadata": {},
   "outputs": [],
   "source": [
    "import torch\n",
    "from torchvision import datasets, transforms\n",
    "\n",
    "# Define a transform to normalize the data\n",
    "transform = transforms.Compose([transforms.ToTensor(),\n",
    "                                transforms.Normalize((0.5,), (0.5,))])\n",
    "# Download and load the training data\n",
    "trainset = datasets.FashionMNIST('~/.pytorch/F_MNIST_data/', download=True, train=True, transform=transform)\n",
    "trainloader = torch.utils.data.DataLoader(trainset, batch_size=64, shuffle=True)\n",
    "\n",
    "# Download and load the test data\n",
    "testset = datasets.FashionMNIST('~/.pytorch/F_MNIST_data/', download=True, train=False, transform=transform)\n",
    "testloader = torch.utils.data.DataLoader(testset, batch_size=64, shuffle=True)"
   ]
  },
  {
   "cell_type": "markdown",
   "metadata": {},
   "source": [
    "Here I'll create a model like normal, using the same one from my solution for part 4."
   ]
  },
  {
   "cell_type": "code",
   "execution_count": 2,
   "metadata": {},
   "outputs": [],
   "source": [
    "from torch import nn, optim\n",
    "import torch.nn.functional as F\n",
    "\n",
    "class Classifier(nn.Module):\n",
    "    def __init__(self):\n",
    "        super().__init__()\n",
    "        self.fc1 = nn.Linear(784, 256)\n",
    "        self.fc2 = nn.Linear(256, 128)\n",
    "        self.fc3 = nn.Linear(128, 64)\n",
    "        self.fc4 = nn.Linear(64, 10)\n",
    "        \n",
    "    def forward(self, x):\n",
    "        # make sure input tensor is flattened\n",
    "        x = x.view(x.shape[0], -1)\n",
    "        \n",
    "        x = F.relu(self.fc1(x))\n",
    "        x = F.relu(self.fc2(x))\n",
    "        x = F.relu(self.fc3(x))\n",
    "        x = F.log_softmax(self.fc4(x), dim=1)\n",
    "        \n",
    "        return x"
   ]
  },
  {
   "cell_type": "markdown",
   "metadata": {},
   "source": [
    "The goal of validation is to measure the model's performance on data that isn't part of the training set. Performance here is up to the developer to define though. Typically this is just accuracy, the percentage of classes the network predicted correctly. Other options are [precision and recall](https://en.wikipedia.org/wiki/Precision_and_recall#Definition_(classification_context)) and top-5 error rate. We'll focus on accuracy here. First I'll do a forward pass with one batch from the test set."
   ]
  },
  {
   "cell_type": "code",
   "execution_count": 3,
   "metadata": {},
   "outputs": [
    {
     "name": "stdout",
     "output_type": "stream",
     "text": [
      "torch.Size([64, 10])\n"
     ]
    }
   ],
   "source": [
    "model = Classifier()\n",
    "\n",
    "images, labels = next(iter(testloader))\n",
    "# Get the class probabilities\n",
    "ps = torch.exp(model(images))\n",
    "# Make sure the shape is appropriate, we should get 10 class probabilities for 64 examples\n",
    "print(ps.shape)"
   ]
  },
  {
   "cell_type": "markdown",
   "metadata": {},
   "source": [
    "With the probabilities, we can get the most likely class using the `ps.topk` method. This returns the $k$ highest values. Since we just want the most likely class, we can use `ps.topk(1)`. This returns a tuple of the top-$k$ values and the top-$k$ indices. If the highest value is the fifth element, we'll get back 4 as the index."
   ]
  },
  {
   "cell_type": "code",
   "execution_count": 4,
   "metadata": {},
   "outputs": [
    {
     "name": "stdout",
     "output_type": "stream",
     "text": [
      "tensor([[9],\n",
      "        [9],\n",
      "        [9],\n",
      "        [9],\n",
      "        [9],\n",
      "        [9],\n",
      "        [9],\n",
      "        [9],\n",
      "        [9],\n",
      "        [9]])\n"
     ]
    }
   ],
   "source": [
    "top_p, top_class = ps.topk(1, dim=1)\n",
    "# Look at the most likely classes for the first 10 examples\n",
    "print(top_class[:10,:])"
   ]
  },
  {
   "cell_type": "markdown",
   "metadata": {},
   "source": [
    "Now we can check if the predicted classes match the labels. This is simple to do by equating `top_class` and `labels`, but we have to be careful of the shapes. Here `top_class` is a 2D tensor with shape `(64, 1)` while `labels` is 1D with shape `(64)`. To get the equality to work out the way we want, `top_class` and `labels` must have the same shape.\n",
    "\n",
    "If we do\n",
    "\n",
    "```python\n",
    "equals = top_class == labels\n",
    "```\n",
    "\n",
    "`equals` will have shape `(64, 64)`, try it yourself. What it's doing is comparing the one element in each row of `top_class` with each element in `labels` which returns 64 True/False boolean values for each row."
   ]
  },
  {
   "cell_type": "code",
   "execution_count": 7,
   "metadata": {},
   "outputs": [],
   "source": [
    "equals = top_class == labels.view(*top_class.shape)"
   ]
  },
  {
   "cell_type": "markdown",
   "metadata": {},
   "source": [
    "Now we need to calculate the percentage of correct predictions. `equals` has binary values, either 0 or 1. This means that if we just sum up all the values and divide by the number of values, we get the percentage of correct predictions. This is the same operation as taking the mean, so we can get the accuracy with a call to `torch.mean`. If only it was that simple. If you try `torch.mean(equals)`, you'll get an error\n",
    "\n",
    "```\n",
    "RuntimeError: mean is not implemented for type torch.ByteTensor\n",
    "```\n",
    "\n",
    "This happens because `equals` has type `torch.ByteTensor` but `torch.mean` isn't implemented for tensors with that type. So we'll need to convert `equals` to a float tensor. Note that when we take `torch.mean` it returns a scalar tensor, to get the actual value as a float we'll need to do `accuracy.item()`."
   ]
  },
  {
   "cell_type": "code",
   "execution_count": 8,
   "metadata": {},
   "outputs": [
    {
     "name": "stdout",
     "output_type": "stream",
     "text": [
      "Accuracy: 18.75%\n"
     ]
    }
   ],
   "source": [
    "accuracy = torch.mean(equals.type(torch.FloatTensor))\n",
    "print(f'Accuracy: {accuracy.item()*100}%')"
   ]
  },
  {
   "cell_type": "markdown",
   "metadata": {},
   "source": [
    "The network is untrained so it's making random guesses and we should see an accuracy around 10%. Now let's train our network and include our validation pass so we can measure how well the network is performing on the test set. Since we're not updating our parameters in the validation pass, we can speed up our code by turning off gradients using `torch.no_grad()`:\n",
    "\n",
    "```python\n",
    "# turn off gradients\n",
    "with torch.no_grad():\n",
    "    # validation pass here\n",
    "    for images, labels in testloader:\n",
    "        ...\n",
    "```\n",
    "\n",
    ">**Exercise:** Implement the validation loop below and print out the total accuracy after the loop. You can largely copy and paste the code from above, but I suggest typing it in because writing it out yourself is essential for building the skill. In general you'll always learn more by typing it rather than copy-pasting. You should be able to get an accuracy above 80%."
   ]
  },
  {
   "cell_type": "code",
   "execution_count": 21,
   "metadata": {},
   "outputs": [
    {
     "name": "stdout",
     "output_type": "stream",
     "text": [
      "Epoch 1 --- Loss: 0.5209453388063638 - Test loss: 0.4368888735771179 - Test accuracy: 84.38000082969666%\n",
      "Epoch 2 --- Loss: 0.3917136456269318 - Test loss: 0.41115161776542664 - Test accuracy: 84.78000164031982%\n",
      "Epoch 3 --- Loss: 0.35549152556703545 - Test loss: 0.4044804573059082 - Test accuracy: 85.25999784469604%\n",
      "Epoch 4 --- Loss: 0.33495741790291594 - Test loss: 0.3886062800884247 - Test accuracy: 85.93000173568726%\n",
      "Epoch 5 --- Loss: 0.3133522016184925 - Test loss: 0.36798325181007385 - Test accuracy: 87.15999722480774%\n",
      "Epoch 6 --- Loss: 0.3020436665905056 - Test loss: 0.3683513104915619 - Test accuracy: 86.97999715805054%\n",
      "Epoch 7 --- Loss: 0.2913452366363011 - Test loss: 0.37832310795783997 - Test accuracy: 87.02999949455261%\n",
      "Epoch 8 --- Loss: 0.28308041585978666 - Test loss: 0.37228330969810486 - Test accuracy: 86.98999881744385%\n",
      "Epoch 9 --- Loss: 0.2729491697254974 - Test loss: 0.37546205520629883 - Test accuracy: 86.65000200271606%\n",
      "Epoch 10 --- Loss: 0.2679826378393402 - Test loss: 0.36168864369392395 - Test accuracy: 87.8000020980835%\n",
      "Epoch 11 --- Loss: 0.2599708921552054 - Test loss: 0.36558395624160767 - Test accuracy: 87.54000067710876%\n",
      "Epoch 12 --- Loss: 0.25132485431855295 - Test loss: 0.3679356276988983 - Test accuracy: 87.61000037193298%\n",
      "Epoch 13 --- Loss: 0.2458303435238948 - Test loss: 0.3799133598804474 - Test accuracy: 87.66999840736389%\n",
      "Epoch 14 --- Loss: 0.24347864726443152 - Test loss: 0.3910023272037506 - Test accuracy: 87.76999711990356%\n",
      "Epoch 15 --- Loss: 0.23746662337118501 - Test loss: 0.3683830499649048 - Test accuracy: 87.83000111579895%\n",
      "Epoch 16 --- Loss: 0.2337092424530401 - Test loss: 0.37836483120918274 - Test accuracy: 87.88999915122986%\n",
      "Epoch 17 --- Loss: 0.22688042468973188 - Test loss: 0.40499982237815857 - Test accuracy: 87.29000091552734%\n",
      "Epoch 18 --- Loss: 0.22645020382458975 - Test loss: 0.37526121735572815 - Test accuracy: 88.27000260353088%\n",
      "Epoch 19 --- Loss: 0.2216265157365532 - Test loss: 0.3916706442832947 - Test accuracy: 88.23999762535095%\n",
      "Epoch 20 --- Loss: 0.21417469494958233 - Test loss: 0.4055238366127014 - Test accuracy: 87.66999840736389%\n",
      "Epoch 21 --- Loss: 0.21414936685374678 - Test loss: 0.40800943970680237 - Test accuracy: 87.90000081062317%\n",
      "Epoch 22 --- Loss: 0.21013637796949858 - Test loss: 0.38881346583366394 - Test accuracy: 88.12999725341797%\n",
      "Epoch 23 --- Loss: 0.20995195722306714 - Test loss: 0.4029552638530731 - Test accuracy: 88.35999965667725%\n",
      "Epoch 24 --- Loss: 0.20081861403736986 - Test loss: 0.405280739068985 - Test accuracy: 87.8600001335144%\n",
      "Epoch 25 --- Loss: 0.198437794304288 - Test loss: 0.4323447048664093 - Test accuracy: 87.43000030517578%\n",
      "Epoch 26 --- Loss: 0.20142549704482307 - Test loss: 0.42032739520072937 - Test accuracy: 87.81999945640564%\n",
      "Epoch 27 --- Loss: 0.19972671326527844 - Test loss: 0.4156974256038666 - Test accuracy: 88.26000094413757%\n",
      "Epoch 28 --- Loss: 0.19808221177887053 - Test loss: 0.43955618143081665 - Test accuracy: 88.05000185966492%\n",
      "Epoch 29 --- Loss: 0.1918535517302276 - Test loss: 0.44584038853645325 - Test accuracy: 87.76999711990356%\n",
      "Epoch 30 --- Loss: 0.1870698028587615 - Test loss: 0.4178254306316376 - Test accuracy: 88.6900007724762%\n"
     ]
    }
   ],
   "source": [
    "model = Classifier()\n",
    "criterion = nn.NLLLoss()\n",
    "optimizer = optim.Adam(model.parameters(), lr=0.003)\n",
    "\n",
    "epochs = 30\n",
    "steps = 0\n",
    "\n",
    "train_losses, test_losses = [], []\n",
    "for e in range(epochs):\n",
    "    running_loss = 0\n",
    "    for images, labels in trainloader:\n",
    "        \n",
    "        optimizer.zero_grad()\n",
    "        \n",
    "        log_ps = model(images)\n",
    "        loss = criterion(log_ps, labels)\n",
    "        loss.backward()\n",
    "        optimizer.step()\n",
    "        \n",
    "        running_loss += loss.item()\n",
    "        \n",
    "    else:\n",
    "        \n",
    "        train_losses.append(running_loss / len(trainloader))\n",
    "        ## TODO: Implement the validation pass and print out the validation accuracy\n",
    "        accuracy = 0\n",
    "        n_records = 0\n",
    "        with torch.no_grad():\n",
    "            running_test_loss = 0\n",
    "            for images, labels in testloader:\n",
    "                output = model(images)\n",
    "                running_test_loss += criterion(output, labels)\n",
    "                ps = torch.exp(output)\n",
    "                _, top_class = ps.topk(1, dim=1)\n",
    "                n_records += images.shape[0]\n",
    "                equals = (top_class == labels.view(*top_class.shape))\n",
    "                accuracy += torch.sum(equals.type(torch.FloatTensor))\n",
    "        accuracy /= n_records\n",
    "        test_losses.append(running_test_loss / len(testloader))\n",
    "        print(f'Epoch {e+1} --- Loss: {train_losses[-1]} - Test loss: {test_losses[-1]} - Test accuracy: {accuracy.item()*100}%')"
   ]
  },
  {
   "cell_type": "code",
   "execution_count": 22,
   "metadata": {},
   "outputs": [
    {
     "data": {
      "image/png": "[encoded data removed]",
      "text/plain": [
       "<Figure size 432x288 with 1 Axes>"
      ]
     },
     "metadata": {
      "needs_background": "light"
     },
     "output_type": "display_data"
    }
   ],
   "source": [
    "import matplotlib.pyplot as plt\n",
    "\n",
    "%matplotlib inline\n",
    "\n",
    "plt.plot(train_losses)\n",
    "plt.plot(test_losses)\n",
    "\n",
    "plt.show()"
   ]
  },
  {
   "cell_type": "markdown",
   "metadata": {},
   "source": [
    "## Overfitting\n",
    "\n",
    "If we look at the training and validation losses as we train the network, we can see a phenomenon known as overfitting.\n",
    "\n",
    "<img src='assets/overfitting.png' width=450px>\n",
    "\n",
    "The network learns the training set better and better, resulting in lower training losses. However, it starts having problems generalizing to data outside the training set leading to the validation loss increasing. The ultimate goal of any deep learning model is to make predictions on new data, so we should strive to get the lowest validation loss possible. One option is to use the version of the model with the lowest validation loss, here the one around 8-10 training epochs. This strategy is called *early-stopping*. In practice, you'd save the model frequently as you're training then later choose the model with the lowest validation loss.\n",
    "\n",
    "The most common method to reduce overfitting (outside of early-stopping) is *dropout*, where we randomly drop input units. This forces the network to share information between weights, increasing it's ability to generalize to new data. Adding dropout in PyTorch is straightforward using the [`nn.Dropout`](https://pytorch.org/docs/stable/nn.html#torch.nn.Dropout) module.\n",
    "\n",
    "```python\n",
    "class Classifier(nn.Module):\n",
    "    def __init__(self):\n",
    "        super().__init__()\n",
    "        self.fc1 = nn.Linear(784, 256)\n",
    "        self.fc2 = nn.Linear(256, 128)\n",
    "        self.fc3 = nn.Linear(128, 64)\n",
    "        self.fc4 = nn.Linear(64, 10)\n",
    "        \n",
    "        # Dropout module with 0.2 drop probability\n",
    "        self.dropout = nn.Dropout(p=0.2)\n",
    "        \n",
    "    def forward(self, x):\n",
    "        # make sure input tensor is flattened\n",
    "        x = x.view(x.shape[0], -1)\n",
    "        \n",
    "        # Now with dropout\n",
    "        x = self.dropout(F.relu(self.fc1(x)))\n",
    "        x = self.dropout(F.relu(self.fc2(x)))\n",
    "        x = self.dropout(F.relu(self.fc3(x)))\n",
    "        \n",
    "        # output so no dropout here\n",
    "        x = F.log_softmax(self.fc4(x), dim=1)\n",
    "        \n",
    "        return x\n",
    "```\n",
    "\n",
    "During training we want to use dropout to prevent overfitting, but during inference we want to use the entire network. So, we need to turn off dropout during validation, testing, and whenever we're using the network to make predictions. To do this, you use `model.eval()`. This sets the model to evaluation mode where the dropout probability is 0. You can turn dropout back on by setting the model to train mode with `model.train()`. In general, the pattern for the validation loop will look like this, where you turn off gradients, set the model to evaluation mode, calculate the validation loss and metric, then set the model back to train mode.\n",
    "\n",
    "```python\n",
    "# turn off gradients\n",
    "with torch.no_grad():\n",
    "    \n",
    "    # set model to evaluation mode\n",
    "    model.eval()\n",
    "    \n",
    "    # validation pass here\n",
    "    for images, labels in testloader:\n",
    "        ...\n",
    "\n",
    "# set model back to train mode\n",
    "model.train()\n",
    "```"
   ]
  },
  {
   "cell_type": "markdown",
   "metadata": {},
   "source": [
    "> **Exercise:** Add dropout to your model and train it on Fashion-MNIST again. See if you can get a lower validation loss or higher accuracy."
   ]
  },
  {
   "cell_type": "code",
   "execution_count": 29,
   "metadata": {},
   "outputs": [],
   "source": [
    "## TODO: Define your model with dropout added\n",
    "\n",
    "class Classifier(nn.Module):\n",
    "    \n",
    "    def __init__(self):\n",
    "        \n",
    "        super().__init__()\n",
    "        \n",
    "        self.fc1 = nn.Linear(784, 256)\n",
    "        self.fc2 = nn.Linear(256, 128)\n",
    "        self.fc3 = nn.Linear(128, 64)\n",
    "        self.fc4 = nn.Linear(64, 10)\n",
    "        self.dropout = nn.Dropout(p=0.2)\n",
    "        \n",
    "    def forward(self, x):\n",
    "        x = x.view(x.shape[0], -1)\n",
    "        \n",
    "        x = self.dropout(F.relu(self.fc1(x)))\n",
    "        x = self.dropout(F.relu(self.fc2(x)))\n",
    "        x = self.dropout(F.relu(self.fc3(x)))\n",
    "        x = F.log_softmax(self.fc4(x), dim=1)\n",
    "        \n",
    "        return x"
   ]
  },
  {
   "cell_type": "code",
   "execution_count": 30,
   "metadata": {},
   "outputs": [
    {
     "name": "stdout",
     "output_type": "stream",
     "text": [
      "Epoch 1 --- Loss: 0.6071689004487575 - Test loss: 0.4682527780532837 - Test accuracy: 82.95999765396118%\n",
      "Epoch 2 --- Loss: 0.48120370040188976 - Test loss: 0.44620415568351746 - Test accuracy: 83.74000191688538%\n",
      "Epoch 3 --- Loss: 0.4540754897730437 - Test loss: 0.4315345883369446 - Test accuracy: 84.21000242233276%\n",
      "Epoch 4 --- Loss: 0.43280640460534897 - Test loss: 0.4109116494655609 - Test accuracy: 85.32999753952026%\n",
      "Epoch 5 --- Loss: 0.42415621382658925 - Test loss: 0.4116153120994568 - Test accuracy: 85.35000085830688%\n",
      "Epoch 6 --- Loss: 0.41280386898753996 - Test loss: 0.4218063950538635 - Test accuracy: 85.2400004863739%\n",
      "Epoch 7 --- Loss: 0.4045468141783529 - Test loss: 0.3964877128601074 - Test accuracy: 85.57000160217285%\n",
      "Epoch 8 --- Loss: 0.40360563151490714 - Test loss: 0.37590739130973816 - Test accuracy: 86.44999861717224%\n",
      "Epoch 9 --- Loss: 0.39395965540459926 - Test loss: 0.3893830180168152 - Test accuracy: 86.01999878883362%\n",
      "Epoch 10 --- Loss: 0.39195715210267473 - Test loss: 0.3970269560813904 - Test accuracy: 85.61000227928162%\n",
      "Epoch 11 --- Loss: 0.3868621546449438 - Test loss: 0.3802618384361267 - Test accuracy: 86.29000186920166%\n",
      "Epoch 12 --- Loss: 0.3848422605441069 - Test loss: 0.37288394570350647 - Test accuracy: 87.1999979019165%\n",
      "Epoch 13 --- Loss: 0.3835639297437947 - Test loss: 0.43342649936676025 - Test accuracy: 84.7000002861023%\n",
      "Epoch 14 --- Loss: 0.38295051083763015 - Test loss: 0.38162899017333984 - Test accuracy: 86.21000051498413%\n",
      "Epoch 15 --- Loss: 0.3739127347797854 - Test loss: 0.3809315264225006 - Test accuracy: 86.61999702453613%\n",
      "Epoch 16 --- Loss: 0.3742056629900485 - Test loss: 0.38208767771720886 - Test accuracy: 86.69000267982483%\n",
      "Epoch 17 --- Loss: 0.3718450123599089 - Test loss: 0.3818521797657013 - Test accuracy: 86.76000237464905%\n",
      "Epoch 18 --- Loss: 0.3689574159856544 - Test loss: 0.3944506049156189 - Test accuracy: 86.44999861717224%\n",
      "Epoch 19 --- Loss: 0.3560041394998143 - Test loss: 0.3919287621974945 - Test accuracy: 86.58000230789185%\n",
      "Epoch 20 --- Loss: 0.3638123299108385 - Test loss: 0.37346065044403076 - Test accuracy: 86.94000244140625%\n",
      "Epoch 21 --- Loss: 0.3590731368596747 - Test loss: 0.36955153942108154 - Test accuracy: 87.38999962806702%\n",
      "Epoch 22 --- Loss: 0.3614762819159641 - Test loss: 0.4083862900733948 - Test accuracy: 86.41999959945679%\n",
      "Epoch 23 --- Loss: 0.3591145346604431 - Test loss: 0.39380067586898804 - Test accuracy: 86.11999750137329%\n",
      "Epoch 24 --- Loss: 0.3551660958828448 - Test loss: 0.37342971563339233 - Test accuracy: 87.30000257492065%\n",
      "Epoch 25 --- Loss: 0.3565330932866027 - Test loss: 0.3653344213962555 - Test accuracy: 87.09999918937683%\n",
      "Epoch 26 --- Loss: 0.34997885132522216 - Test loss: 0.37798383831977844 - Test accuracy: 86.58000230789185%\n",
      "Epoch 27 --- Loss: 0.3427983572615235 - Test loss: 0.3628172278404236 - Test accuracy: 87.40000128746033%\n",
      "Epoch 28 --- Loss: 0.3452581434028108 - Test loss: 0.37819141149520874 - Test accuracy: 87.48999834060669%\n",
      "Epoch 29 --- Loss: 0.34198725011461834 - Test loss: 0.3947955369949341 - Test accuracy: 86.11000180244446%\n",
      "Epoch 30 --- Loss: 0.35176245973848586 - Test loss: 0.37332016229629517 - Test accuracy: 87.54000067710876%\n"
     ]
    }
   ],
   "source": [
    "## TODO: Train your model with dropout, and monitor the training progress with the validation loss and accuracy\n",
    "model = Classifier()\n",
    "criterion = nn.NLLLoss()\n",
    "optimizer = optim.Adam(model.parameters(), lr=0.003)\n",
    "\n",
    "epochs = 30\n",
    "steps = 0\n",
    "\n",
    "train_losses, test_losses = [], []\n",
    "for e in range(epochs):\n",
    "    running_loss = 0\n",
    "    model.train()\n",
    "    for images, labels in trainloader:\n",
    "        \n",
    "        optimizer.zero_grad()\n",
    "        \n",
    "        log_ps = model(images)\n",
    "        loss = criterion(log_ps, labels)\n",
    "        loss.backward()\n",
    "        optimizer.step()\n",
    "        \n",
    "        running_loss += loss.item()\n",
    "        \n",
    "    else:\n",
    "        \n",
    "        train_losses.append(running_loss / len(trainloader))\n",
    "        ## TODO: Implement the validation pass and print out the validation accuracy\n",
    "        model.eval()\n",
    "        accuracy = 0\n",
    "        n_records = 0\n",
    "        with torch.no_grad():\n",
    "            running_test_loss = 0\n",
    "            for images, labels in testloader:\n",
    "                output = model(images)\n",
    "                running_test_loss += criterion(output, labels)\n",
    "                ps = torch.exp(output)\n",
    "                _, top_class = ps.topk(1, dim=1)\n",
    "                n_records += images.shape[0]\n",
    "                equals = (top_class == labels.view(*top_class.shape))\n",
    "                accuracy += torch.sum(equals.type(torch.FloatTensor))\n",
    "        accuracy /= n_records\n",
    "        test_losses.append(running_test_loss / len(testloader))\n",
    "        print(f'Epoch {e+1} --- Loss: {train_losses[-1]} - Test loss: {test_losses[-1]} - Test accuracy: {accuracy.item()*100}%')"
   ]
  },
  {
   "cell_type": "code",
   "execution_count": 31,
   "metadata": {},
   "outputs": [
    {
     "data": {
      "image/png": "[encoded data removed]",
      "text/plain": [
       "<Figure size 432x288 with 1 Axes>"
      ]
     },
     "metadata": {
      "needs_background": "light"
     },
     "output_type": "display_data"
    }
   ],
   "source": [
    "import matplotlib.pyplot as plt\n",
    "\n",
    "%matplotlib inline\n",
    "\n",
    "plt.plot(train_losses)\n",
    "plt.plot(test_losses)\n",
    "\n",
    "plt.show()"
   ]
  },
  {
   "cell_type": "markdown",
   "metadata": {},
   "source": [
    "## Inference\n",
    "\n",
    "Now that the model is trained, we can use it for inference. We've done this before, but now we need to remember to set the model in inference mode with `model.eval()`. You'll also want to turn off autograd with the `torch.no_grad()` context."
   ]
  },
  {
   "cell_type": "code",
   "execution_count": 32,
   "metadata": {},
   "outputs": [
    {
     "data": {
      "image/png": "[encoded data removed]",
      "text/plain": [
       "<Figure size 432x648 with 2 Axes>"
      ]
     },
     "metadata": {
      "needs_background": "light"
     },
     "output_type": "display_data"
    }
   ],
   "source": [
    "# Import helper module (should be in the repo)\n",
    "import helper\n",
    "\n",
    "# Test out your network!\n",
    "\n",
    "model.eval()\n",
    "\n",
    "dataiter = iter(testloader)\n",
    "images, labels = dataiter.next()\n",
    "img = images[0]\n",
    "# Convert 2D image to 1D vector\n",
    "img = img.view(1, 784)\n",
    "\n",
    "# Calculate the class probabilities (softmax) for img\n",
    "with torch.no_grad():\n",
    "    output = model.forward(img)\n",
    "\n",
    "ps = torch.exp(output)\n",
    "\n",
    "# Plot the image and probabilities\n",
    "helper.view_classify(img.view(1, 28, 28), ps, version='Fashion')"
   ]
  },
  {
   "cell_type": "markdown",
   "metadata": {},
   "source": [
    "## Next Up!\n",
    "\n",
    "In the next part, I'll show you how to save your trained models. In general, you won't want to train a model everytime you need it. Instead, you'll train once, save it, then load the model when you want to train more or use if for inference."
   ]
  }
 ],
 "metadata": {
  "kernelspec": {
   "display_name": "Udacity Torch - Python 3.8",
   "language": "python",
   "name": "myenv"
  },
  "language_info": {
   "codemirror_mode": {
    "name": "ipython",
    "version": 3
   },
   "file_extension": ".py",
   "mimetype": "text/x-python",
   "name": "python",
   "nbconvert_exporter": "python",
   "pygments_lexer": "ipython3",
   "version": "3.8.1"
  }
 },
 "nbformat": 4,
 "nbformat_minor": 2
}
